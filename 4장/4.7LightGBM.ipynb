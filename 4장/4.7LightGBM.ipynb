{
 "cells": [
  {
   "cell_type": "code",
   "execution_count": 1,
   "metadata": {},
   "outputs": [
    {
     "name": "stdout",
     "output_type": "stream",
     "text": [
      "3.3.2\n"
     ]
    }
   ],
   "source": [
    "import lightgbm\n",
    "\n",
    "print(lightgbm.__version__)"
   ]
  },
  {
   "cell_type": "markdown",
   "metadata": {},
   "source": [
    "#### LoghtGBM 적용 - 위스콘신 Breast Cancer Prediction"
   ]
  },
  {
   "cell_type": "code",
   "execution_count": 3,
   "metadata": {},
   "outputs": [
    {
     "name": "stderr",
     "output_type": "stream",
     "text": [
      "C:\\Users\\jx778\\anaconda3\\lib\\site-packages\\lightgbm\\sklearn.py:726: UserWarning: 'early_stopping_rounds' argument is deprecated and will be removed in a future release of LightGBM. Pass 'early_stopping()' callback via 'callbacks' argument instead.\n",
      "  _log_warning(\"'early_stopping_rounds' argument is deprecated and will be removed in a future release of LightGBM. \"\n",
      "C:\\Users\\jx778\\anaconda3\\lib\\site-packages\\lightgbm\\sklearn.py:736: UserWarning: 'verbose' argument is deprecated and will be removed in a future release of LightGBM. Pass 'log_evaluation()' callback via 'callbacks' argument instead.\n",
      "  _log_warning(\"'verbose' argument is deprecated and will be removed in a future release of LightGBM. \"\n"
     ]
    },
    {
     "name": "stdout",
     "output_type": "stream",
     "text": [
      "[1]\tvalid_0's binary_logloss: 0.566257\n",
      "[2]\tvalid_0's binary_logloss: 0.512086\n",
      "[3]\tvalid_0's binary_logloss: 0.46283\n",
      "[4]\tvalid_0's binary_logloss: 0.42183\n",
      "[5]\tvalid_0's binary_logloss: 0.38844\n",
      "[6]\tvalid_0's binary_logloss: 0.359048\n",
      "[7]\tvalid_0's binary_logloss: 0.335033\n",
      "[8]\tvalid_0's binary_logloss: 0.307119\n",
      "[9]\tvalid_0's binary_logloss: 0.289233\n",
      "[10]\tvalid_0's binary_logloss: 0.271619\n",
      "[11]\tvalid_0's binary_logloss: 0.253648\n",
      "[12]\tvalid_0's binary_logloss: 0.24066\n",
      "[13]\tvalid_0's binary_logloss: 0.226677\n",
      "[14]\tvalid_0's binary_logloss: 0.216104\n",
      "[15]\tvalid_0's binary_logloss: 0.202985\n",
      "[16]\tvalid_0's binary_logloss: 0.192317\n",
      "[17]\tvalid_0's binary_logloss: 0.181687\n",
      "[18]\tvalid_0's binary_logloss: 0.174502\n",
      "[19]\tvalid_0's binary_logloss: 0.166488\n",
      "[20]\tvalid_0's binary_logloss: 0.164217\n",
      "[21]\tvalid_0's binary_logloss: 0.15868\n",
      "[22]\tvalid_0's binary_logloss: 0.15107\n",
      "[23]\tvalid_0's binary_logloss: 0.146516\n",
      "[24]\tvalid_0's binary_logloss: 0.1414\n",
      "[25]\tvalid_0's binary_logloss: 0.134665\n",
      "[26]\tvalid_0's binary_logloss: 0.131132\n",
      "[27]\tvalid_0's binary_logloss: 0.127456\n",
      "[28]\tvalid_0's binary_logloss: 0.123818\n",
      "[29]\tvalid_0's binary_logloss: 0.123016\n",
      "[30]\tvalid_0's binary_logloss: 0.121932\n",
      "[31]\tvalid_0's binary_logloss: 0.119378\n",
      "[32]\tvalid_0's binary_logloss: 0.119808\n",
      "[33]\tvalid_0's binary_logloss: 0.1195\n",
      "[34]\tvalid_0's binary_logloss: 0.119457\n",
      "[35]\tvalid_0's binary_logloss: 0.116708\n",
      "[36]\tvalid_0's binary_logloss: 0.11673\n",
      "[37]\tvalid_0's binary_logloss: 0.116709\n",
      "[38]\tvalid_0's binary_logloss: 0.114769\n",
      "[39]\tvalid_0's binary_logloss: 0.115877\n",
      "[40]\tvalid_0's binary_logloss: 0.116795\n",
      "[41]\tvalid_0's binary_logloss: 0.115331\n",
      "[42]\tvalid_0's binary_logloss: 0.116133\n",
      "[43]\tvalid_0's binary_logloss: 0.114817\n",
      "[44]\tvalid_0's binary_logloss: 0.116066\n",
      "[45]\tvalid_0's binary_logloss: 0.115029\n",
      "[46]\tvalid_0's binary_logloss: 0.114599\n",
      "[47]\tvalid_0's binary_logloss: 0.110694\n",
      "[48]\tvalid_0's binary_logloss: 0.110264\n",
      "[49]\tvalid_0's binary_logloss: 0.108544\n",
      "[50]\tvalid_0's binary_logloss: 0.109611\n",
      "[51]\tvalid_0's binary_logloss: 0.106507\n",
      "[52]\tvalid_0's binary_logloss: 0.10819\n",
      "[53]\tvalid_0's binary_logloss: 0.105066\n",
      "[54]\tvalid_0's binary_logloss: 0.106283\n",
      "[55]\tvalid_0's binary_logloss: 0.10526\n",
      "[56]\tvalid_0's binary_logloss: 0.106662\n",
      "[57]\tvalid_0's binary_logloss: 0.1066\n",
      "[58]\tvalid_0's binary_logloss: 0.10384\n",
      "[59]\tvalid_0's binary_logloss: 0.102211\n",
      "[60]\tvalid_0's binary_logloss: 0.103241\n",
      "[61]\tvalid_0's binary_logloss: 0.103193\n",
      "[62]\tvalid_0's binary_logloss: 0.0998498\n",
      "[63]\tvalid_0's binary_logloss: 0.100182\n",
      "[64]\tvalid_0's binary_logloss: 0.0989577\n",
      "[65]\tvalid_0's binary_logloss: 0.0977482\n",
      "[66]\tvalid_0's binary_logloss: 0.0978138\n",
      "[67]\tvalid_0's binary_logloss: 0.0973564\n",
      "[68]\tvalid_0's binary_logloss: 0.0976925\n",
      "[69]\tvalid_0's binary_logloss: 0.098076\n",
      "[70]\tvalid_0's binary_logloss: 0.098188\n",
      "[71]\tvalid_0's binary_logloss: 0.0979422\n",
      "[72]\tvalid_0's binary_logloss: 0.0991321\n",
      "[73]\tvalid_0's binary_logloss: 0.0997874\n",
      "[74]\tvalid_0's binary_logloss: 0.0991783\n",
      "[75]\tvalid_0's binary_logloss: 0.0990538\n",
      "[76]\tvalid_0's binary_logloss: 0.100667\n",
      "[77]\tvalid_0's binary_logloss: 0.102765\n",
      "[78]\tvalid_0's binary_logloss: 0.104851\n",
      "[79]\tvalid_0's binary_logloss: 0.105243\n",
      "[80]\tvalid_0's binary_logloss: 0.103771\n",
      "[81]\tvalid_0's binary_logloss: 0.107172\n",
      "[82]\tvalid_0's binary_logloss: 0.107243\n",
      "[83]\tvalid_0's binary_logloss: 0.10907\n",
      "[84]\tvalid_0's binary_logloss: 0.106875\n",
      "[85]\tvalid_0's binary_logloss: 0.105864\n",
      "[86]\tvalid_0's binary_logloss: 0.1025\n",
      "[87]\tvalid_0's binary_logloss: 0.103711\n",
      "[88]\tvalid_0's binary_logloss: 0.105881\n",
      "[89]\tvalid_0's binary_logloss: 0.105283\n",
      "[90]\tvalid_0's binary_logloss: 0.106181\n",
      "[91]\tvalid_0's binary_logloss: 0.10641\n",
      "[92]\tvalid_0's binary_logloss: 0.106933\n",
      "[93]\tvalid_0's binary_logloss: 0.108989\n",
      "[94]\tvalid_0's binary_logloss: 0.106035\n",
      "[95]\tvalid_0's binary_logloss: 0.103241\n",
      "[96]\tvalid_0's binary_logloss: 0.105434\n",
      "[97]\tvalid_0's binary_logloss: 0.104611\n",
      "[98]\tvalid_0's binary_logloss: 0.104715\n",
      "[99]\tvalid_0's binary_logloss: 0.105263\n",
      "[100]\tvalid_0's binary_logloss: 0.106367\n",
      "[101]\tvalid_0's binary_logloss: 0.108995\n",
      "[102]\tvalid_0's binary_logloss: 0.109662\n",
      "[103]\tvalid_0's binary_logloss: 0.110267\n",
      "[104]\tvalid_0's binary_logloss: 0.112484\n",
      "[105]\tvalid_0's binary_logloss: 0.114144\n",
      "[106]\tvalid_0's binary_logloss: 0.116548\n",
      "[107]\tvalid_0's binary_logloss: 0.116186\n",
      "[108]\tvalid_0's binary_logloss: 0.11593\n",
      "[109]\tvalid_0's binary_logloss: 0.11932\n",
      "[110]\tvalid_0's binary_logloss: 0.121937\n",
      "[111]\tvalid_0's binary_logloss: 0.121523\n",
      "[112]\tvalid_0's binary_logloss: 0.124297\n",
      "[113]\tvalid_0's binary_logloss: 0.126827\n",
      "[114]\tvalid_0's binary_logloss: 0.127309\n",
      "[115]\tvalid_0's binary_logloss: 0.128624\n",
      "[116]\tvalid_0's binary_logloss: 0.128225\n",
      "[117]\tvalid_0's binary_logloss: 0.127326\n",
      "[118]\tvalid_0's binary_logloss: 0.129929\n",
      "[119]\tvalid_0's binary_logloss: 0.129357\n",
      "[120]\tvalid_0's binary_logloss: 0.128464\n",
      "[121]\tvalid_0's binary_logloss: 0.125126\n",
      "[122]\tvalid_0's binary_logloss: 0.125606\n",
      "[123]\tvalid_0's binary_logloss: 0.126622\n",
      "[124]\tvalid_0's binary_logloss: 0.129729\n",
      "[125]\tvalid_0's binary_logloss: 0.131297\n",
      "[126]\tvalid_0's binary_logloss: 0.131842\n",
      "[127]\tvalid_0's binary_logloss: 0.133346\n",
      "[128]\tvalid_0's binary_logloss: 0.133692\n",
      "[129]\tvalid_0's binary_logloss: 0.134085\n",
      "[130]\tvalid_0's binary_logloss: 0.133128\n",
      "[131]\tvalid_0's binary_logloss: 0.136216\n",
      "[132]\tvalid_0's binary_logloss: 0.132965\n",
      "[133]\tvalid_0's binary_logloss: 0.133821\n",
      "[134]\tvalid_0's binary_logloss: 0.131129\n",
      "[135]\tvalid_0's binary_logloss: 0.130615\n",
      "[136]\tvalid_0's binary_logloss: 0.130845\n",
      "[137]\tvalid_0's binary_logloss: 0.129957\n",
      "[138]\tvalid_0's binary_logloss: 0.132697\n",
      "[139]\tvalid_0's binary_logloss: 0.132403\n",
      "[140]\tvalid_0's binary_logloss: 0.135179\n",
      "[141]\tvalid_0's binary_logloss: 0.135931\n",
      "[142]\tvalid_0's binary_logloss: 0.138265\n",
      "[143]\tvalid_0's binary_logloss: 0.138283\n",
      "[144]\tvalid_0's binary_logloss: 0.141122\n",
      "[145]\tvalid_0's binary_logloss: 0.139261\n",
      "[146]\tvalid_0's binary_logloss: 0.138782\n",
      "[147]\tvalid_0's binary_logloss: 0.137257\n",
      "[148]\tvalid_0's binary_logloss: 0.139026\n",
      "[149]\tvalid_0's binary_logloss: 0.139361\n",
      "[150]\tvalid_0's binary_logloss: 0.141818\n",
      "[151]\tvalid_0's binary_logloss: 0.143237\n",
      "[152]\tvalid_0's binary_logloss: 0.143566\n",
      "[153]\tvalid_0's binary_logloss: 0.140535\n",
      "[154]\tvalid_0's binary_logloss: 0.139886\n",
      "[155]\tvalid_0's binary_logloss: 0.139822\n",
      "[156]\tvalid_0's binary_logloss: 0.139795\n",
      "[157]\tvalid_0's binary_logloss: 0.141423\n",
      "[158]\tvalid_0's binary_logloss: 0.141582\n",
      "[159]\tvalid_0's binary_logloss: 0.142605\n",
      "[160]\tvalid_0's binary_logloss: 0.142663\n",
      "[161]\tvalid_0's binary_logloss: 0.142776\n",
      "[162]\tvalid_0's binary_logloss: 0.141765\n",
      "[163]\tvalid_0's binary_logloss: 0.143586\n",
      "[164]\tvalid_0's binary_logloss: 0.143406\n",
      "[165]\tvalid_0's binary_logloss: 0.143029\n",
      "[166]\tvalid_0's binary_logloss: 0.144708\n",
      "[167]\tvalid_0's binary_logloss: 0.146111\n"
     ]
    }
   ],
   "source": [
    "# LightGBM의 파이썬 패키지인 lightgbm에서 LGBMClassifier 임포트\n",
    "from lightgbm import LGBMClassifier\n",
    "import pandas as pd\n",
    "import numpy as np\n",
    "from sklearn.datasets import load_breast_cancer\n",
    "from sklearn.model_selection import train_test_split\n",
    "\n",
    "dataset = load_breast_cancer()\n",
    "ftr = dataset.data\n",
    "target = dataset.target\n",
    "\n",
    "# 전체 데이터 중 80%는 학습용 데이터, 20%는 테스트용 데이트 추출\n",
    "X_train, X_test, y_train, y_test = train_test_split(ftr, target, test_size=0.1, random_state=156)\n",
    "\n",
    "# 앞서 XGboost와 동일하게 n_estimators는 400tjfwjd\n",
    "lgbm_wrapper = LGBMClassifier(n_estimators=400)\n",
    "\n",
    "# LightGBM도 XGBoost와 동일하게 조기 중산 수행 가능\n",
    "evals = [(X_test, y_test)]\n",
    "lgbm_wrapper.fit(X_train, y_train, early_stopping_rounds=100, eval_metric='logloss', eval_set=evals, verbose=True)\n",
    "preds = lgbm_wrapper.predict(X_test)\n",
    "pred_proba = lgbm_wrapper.predict_proba(X_test)[:,1]"
   ]
  },
  {
   "cell_type": "code",
   "execution_count": 4,
   "metadata": {},
   "outputs": [],
   "source": [
    "from sklearn.metrics import confusion_matrix, accuracy_score\n",
    "from sklearn.metrics import precision_score, recall_score\n",
    "from sklearn.metrics import f1_score, roc_auc_score\n",
    "\n",
    "# 수정된 get_clf_eval() 함수 \n",
    "def get_clf_eval(y_test, pred=None, pred_proba=None):\n",
    "    confusion = confusion_matrix( y_test, pred)\n",
    "    accuracy = accuracy_score(y_test , pred)\n",
    "    precision = precision_score(y_test , pred)\n",
    "    recall = recall_score(y_test , pred)\n",
    "    f1 = f1_score(y_test,pred)\n",
    "    # ROC-AUC 추가 \n",
    "    roc_auc = roc_auc_score(y_test, pred_proba)\n",
    "    print('오차 행렬')\n",
    "    print(confusion)\n",
    "    # ROC-AUC print 추가\n",
    "    print('정확도: {0:.4f}, 정밀도: {1:.4f}, 재현율: {2:.4f},\\\n",
    "    F1: {3:.4f}, AUC:{4:.4f}'.format(accuracy, precision, recall, f1, roc_auc))"
   ]
  },
  {
   "cell_type": "code",
   "execution_count": 5,
   "metadata": {},
   "outputs": [
    {
     "name": "stdout",
     "output_type": "stream",
     "text": [
      "오차 행렬\n",
      "[[17  1]\n",
      " [ 1 38]]\n",
      "정확도: 0.9649, 정밀도: 0.9744, 재현율: 0.9744,    F1: 0.9744, AUC:0.9957\n"
     ]
    }
   ],
   "source": [
    "get_clf_eval(y_test, preds, pred_proba)"
   ]
  },
  {
   "cell_type": "code",
   "execution_count": 6,
   "metadata": {},
   "outputs": [
    {
     "data": {
      "text/plain": [
       "<AxesSubplot:title={'center':'Feature importance'}, xlabel='Feature importance', ylabel='Features'>"
      ]
     },
     "execution_count": 6,
     "metadata": {},
     "output_type": "execute_result"
    },
    {
     "data": {
      "image/png": "[encoded data removed]",
      "text/plain": [
       "<Figure size 720x864 with 1 Axes>"
      ]
     },
     "metadata": {
      "needs_background": "light"
     },
     "output_type": "display_data"
    }
   ],
   "source": [
    "from lightgbm import plot_importance\n",
    "import matplotlib.pyplot as plt\n",
    "%matplotlib inline\n",
    "\n",
    "fig, ax = plt.subplots(figsize=(10,12))\n",
    "plot_importance(lgbm_wrapper, ax=ax)"
   ]
  },
  {
   "cell_type": "code",
   "execution_count": 7,
   "metadata": {},
   "outputs": [
    {
     "name": "stdout",
     "output_type": "stream",
     "text": [
      "['mean radius' 'mean texture' 'mean perimeter' 'mean area'\n",
      " 'mean smoothness' 'mean compactness' 'mean concavity'\n",
      " 'mean concave points' 'mean symmetry' 'mean fractal dimension'\n",
      " 'radius error' 'texture error' 'perimeter error' 'area error'\n",
      " 'smoothness error' 'compactness error' 'concavity error'\n",
      " 'concave points error' 'symmetry error' 'fractal dimension error'\n",
      " 'worst radius' 'worst texture' 'worst perimeter' 'worst area'\n",
      " 'worst smoothness' 'worst compactness' 'worst concavity'\n",
      " 'worst concave points' 'worst symmetry' 'worst fractal dimension']\n"
     ]
    }
   ],
   "source": [
    "print(dataset.feature_names)"
   ]
  },
  {
   "cell_type": "code",
   "execution_count": null,
   "metadata": {},
   "outputs": [],
   "source": []
  }
 ],
 "metadata": {
  "interpreter": {
   "hash": "0d4a9a199e308b53aa82b898b3eb9e4ca93da16d82a0a156b58abfd7d177fa5f"
  },
  "kernelspec": {
   "display_name": "Python 3.9.7 ('base')",
   "language": "python",
   "name": "python3"
  },
  "language_info": {
   "codemirror_mode": {
    "name": "ipython",
    "version": 3
   },
   "file_extension": ".py",
   "mimetype": "text/x-python",
   "name": "python",
   "nbconvert_exporter": "python",
   "pygments_lexer": "ipython3",
   "version": "3.9.7"
  },
  "orig_nbformat": 4
 },
 "nbformat": 4,
 "nbformat_minor": 2
}
